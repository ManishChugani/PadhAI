{
  "cells": [
    {
      "metadata": {
        "trusted": true,
        "_uuid": "98a439bcdf01bf0645844bb3a5202e1724dd3c9f"
      },
      "cell_type": "code",
      "source": "import numpy as np\nimport pandas as pd\nimport matplotlib.pyplot as plt\nfrom sklearn.preprocessing import LabelEncoder,MinMaxScaler, StandardScaler\nfrom sklearn.model_selection import train_test_split, ParameterGrid\nfrom sklearn.metrics import accuracy_score, confusion_matrix, mean_squared_error, log_loss\nimport operator\nimport json\nfrom IPython import display\nimport os\nimport warnings\n\nnp.random.seed(0)\nwarnings.filterwarnings(\"ignore\")\nTHRESHOLD = 4",
      "execution_count": null,
      "outputs": []
    },
    {
      "metadata": {
        "_uuid": "187e8ce15141ce0636f51f1bb51e50895afedcfb"
      },
      "cell_type": "markdown",
      "source": "Task: To predict whether the user likes the mobile phone or not. <br>\nAssumption: If the average rating of mobile >= threshold, then the user likes it, otherwise not."
    },
    {
      "metadata": {
        "_uuid": "7404b8c75f0126679f54bdaf6ed1206aed6afdf8"
      },
      "cell_type": "markdown",
      "source": "<b>Missing values:</b><br>\n'Also Known As'(459),'Applications'(421),'Audio Features'(437),'Bezel-less display'(266),'Browser'(449),'Build Material'(338),'Co-Processor'(451),'Display Colour'(457),'Mobile High-Definition Link(MHL)'(472),'Music'(447)\n'Email','Fingerprint Sensor Position'(174),'Games'(446),'HDMI'(454),'Heart Rate Monitor'(467),'IRIS Scanner'(467),\n'Optical Image Stabilisation'(219),'Other Facilities'(444),'Phone Book'(444),'Physical Aperture'(87),'Quick Charging'(122),'Ring Tone'(444),'Ruggedness'(430),SAR Value(315),'SIM 3'(472),'SMS'(470)', 'Screen Protection'(229),'Screen to Body Ratio (claimed by the brand)'(428),'Sensor'(242),'Software Based Aperture'(473),\n'Special Features'(459),'Standby time'(334),'Stylus'(473),'TalkTime'(259), 'USB Type-C'(374),'Video Player'(456),\n'Video Recording Features'(458),'Waterproof'(398),'Wireless Charging','USB OTG Support'(159), 'Video ,'Recording'(113),'Java'(471),'Browser'(448)\n\n<b>Very low variance:</b><br>\n'Architecture'(most entries are 64-bit),'Audio Jack','GPS','Loudspeaker','Network','Network Support','Other Sensors'(28),'SIM Size', 'VoLTE'\n\n\n<b>Multivalued:</b><br>\n'Colours','Custom UI','Model'(1),'Other Sensors','Launch Date'\n\n<b>Not important:</b><br>\n'Bluetooth', 'Settings'(75),'Wi-Fi','Wi-Fi Features'\n\n<b>Doubtful:</b><br>\n'Aspect Ratio','Autofocus','Brand','Camera Features','Fingerprint Sensor'(very few entries are missing),\n'Fingerprint Sensor Position', 'Graphics'(multivalued),'Image resolution'(multivalued),'SIM Size','Sim Slot(s)', 'User Available Storage', 'SIM 1', 'SIM 2','Shooting Modes', 'Touch Screen'(24), 'USB Connectivity'\n    \n<b>To check:</b><br>\n'Display Type','Expandable Memory','FM Radio'\n\n<b>High Correlation with other features</b><br>\n'SIM Slot(s)' high correlation with SIM1\n'Weight' has high high correlation with capacity , screen-to-body ratio\n'Height' - screen size is also there\n    \n<b>Given a mobile, we can't directly get these features</b><br>\n'Rating Count', 'Review Count'\n\n<b>Keeping:</b><br>\n'Capacity','Flash'(17),'Height'(22),'Internal Memory'(20, require cleaning),'Operating System'(25, require cleaning), 'Pixel Density'(1, clean it),'Processor'(22, clean it), 'RAM'(17, clean), 'Rating','Resolution'(cleaning), 'Screen Resolution','Screen Size', 'Thickness'(22), 'Type','User Replaceable','Weight'(cleaning),'Sim Size'(), 'Other Sensors'(28), 'Screen to Body Ratio (calculated)','Width',\n"
    },
    {
      "metadata": {
        "trusted": true,
        "_uuid": "419ba3d828ada9db1d4c8a1d0ef2683d8986f653"
      },
      "cell_type": "code",
      "source": "# read data from file\ntrain = pd.read_csv(\"../input/train.csv\") \ntest = pd.read_csv(\"../input/test.csv\")\n\n# check the number of features and data points in train\nprint(\"Number of data points in train: %d\" % train.shape[0])\nprint(\"Number of features in train: %d\" % train.shape[1])\n\n# check the number of features and data points in test\nprint(\"Number of data points in test: %d\" % test.shape[0])\nprint(\"Number of features in test: %d\" % test.shape[1])",
      "execution_count": null,
      "outputs": []
    },
    {
      "metadata": {
        "trusted": true,
        "_uuid": "b81bf4acc0f2a7be3c023733d96f3b7d80e9a2f1"
      },
      "cell_type": "code",
      "source": "def data_clean(data):\n    \n    # Let's first remove all missing value features\n    columns_to_remove = ['Also Known As','Applications','Audio Features','Bezel-less display'\n                         'Browser','Build Material','Co-Processor','Browser'\n                         'Display Colour','Mobile High-Definition Link(MHL)',\n                         'Music', 'Email','Fingerprint Sensor Position',\n                         'Games','HDMI','Heart Rate Monitor','IRIS Scanner', \n                         'Optical Image Stabilisation','Other Facilities',\n                         'Phone Book','Physical Aperture','Quick Charging',\n                         'Ring Tone','Ruggedness','SAR Value','SIM 3','SMS',\n                         'Screen Protection','Screen to Body Ratio (claimed by the brand)',\n                         'Sensor','Software Based Aperture', 'Special Features',\n                         'Standby time','Stylus','TalkTime', 'USB Type-C',\n                         'Video Player', 'Video Recording Features','Waterproof',\n                         'Wireless Charging','USB OTG Support', 'Video Recording','Java']\n\n    columns_to_retain = list(set(data.columns)-set(columns_to_remove))\n    data = data[columns_to_retain]\n\n    #Features having very low variance \n    columns_to_remove = ['Architecture','Audio Jack','GPS','Loudspeaker','Network','Network Support','VoLTE']\n    columns_to_retain = list(set(data.columns)-set(columns_to_remove))\n    data = data[columns_to_retain]\n\n    # Multivalued:\n    columns_to_remove = ['Architecture','Launch Date','Audio Jack','GPS','Loudspeaker','Network','Network Support','VoLTE', 'Custom UI']\n    columns_to_retain = list(set(data.columns)-set(columns_to_remove))\n    data = data[columns_to_retain]\n\n    # Not much important\n    columns_to_remove = ['Bluetooth', 'Settings','Wi-Fi','Wi-Fi Features']\n    columns_to_retain = list(set(data.columns)-set(columns_to_remove))\n    data = data[columns_to_retain]\n    \n    return data",
      "execution_count": null,
      "outputs": []
    },
    {
      "metadata": {
        "_uuid": "64859ebae00fa8864437a808de67d1bfe385c987"
      },
      "cell_type": "markdown",
      "source": "# Removing features"
    },
    {
      "metadata": {
        "trusted": true,
        "_uuid": "e487aa2c78f5fa41905fc23bdc26741571d1c931"
      },
      "cell_type": "code",
      "source": "train = data_clean(train)\ntest = data_clean(test)",
      "execution_count": null,
      "outputs": []
    },
    {
      "metadata": {
        "_uuid": "485759eda23e69bddd631c10b25474972ac73dae"
      },
      "cell_type": "markdown",
      "source": "removing all those data points in which more than 15 features are missing "
    },
    {
      "metadata": {
        "trusted": true,
        "_uuid": "2e2a56c89d0b9b2cc4f5c8c21d45fbbdb77b16f0"
      },
      "cell_type": "code",
      "source": "train = train[(train.isnull().sum(axis=1) <= 15)]\n# You shouldn't remove data points from test set\n#test = test[(test.isnull().sum(axis=1) <= 15)]",
      "execution_count": null,
      "outputs": []
    },
    {
      "metadata": {
        "trusted": true,
        "_uuid": "73a1adecc6f82674daf83f16ca8ab5d8215063c1"
      },
      "cell_type": "code",
      "source": "# check the number of features and data points in train\nprint(\"Number of data points in train: %d\" % train.shape[0])\nprint(\"Number of features in train: %d\" % train.shape[1])\n\n# check the number of features and data points in test\nprint(\"Number of data points in test: %d\" % test.shape[0])\nprint(\"Number of features in test: %d\" % test.shape[1])",
      "execution_count": null,
      "outputs": []
    },
    {
      "metadata": {
        "_uuid": "1f41d8a1ae41830dd25ad42a17b3572560595b20"
      },
      "cell_type": "markdown",
      "source": "# Filling Missing values"
    },
    {
      "metadata": {
        "trusted": true,
        "_uuid": "2895e6bcde432302d25d032255d5a7caba8c1825"
      },
      "cell_type": "code",
      "source": "def for_integer(test):\n    try:\n        test = test.strip()\n        return int(test.split(' ')[0])\n    except IOError:\n           pass\n    except ValueError:\n        pass\n    except:\n        pass\n\ndef for_string(test):\n    try:\n        test = test.strip()\n        return (test.split(' ')[0])\n    except IOError:\n        pass\n    except ValueError:\n        pass\n    except:\n        pass\n\ndef for_float(test):\n    try:\n        test = test.strip()\n        return float(test.split(' ')[0])\n    except IOError:\n        pass\n    except ValueError:\n        pass\n    except:\n        pass\ndef find_freq(test):\n    try:\n        test = test.strip()\n        test = test.split(' ')\n        if test[2][0] == '(':\n            return float(test[2][1:])\n        return float(test[2])\n    except IOError:\n        pass\n    except ValueError:\n        pass\n    except:\n        pass\n\n    \ndef for_Internal_Memory(test):\n    try:\n        test = test.strip()\n        test = test.split(' ')\n        if test[1] == 'GB':\n            return int(test[0])\n        if test[1] == 'MB':\n#             print(\"here\")\n            return (int(test[0]) * 0.001)\n    except IOError:\n           pass\n    except ValueError:\n        pass\n    except:\n        pass\n    \ndef find_freq(test):\n    try:\n        test = test.strip()\n        test = test.split(' ')\n        if test[2][0] == '(':\n            return float(test[2][1:])\n        return float(test[2])\n    except IOError:\n        pass\n    except ValueError:\n        pass\n    except:\n        pass\n",
      "execution_count": null,
      "outputs": []
    },
    {
      "metadata": {
        "trusted": true,
        "_uuid": "1d169483f107639bc1c146c6d37dba509e3d5ef4"
      },
      "cell_type": "code",
      "source": "def data_clean_2(x):\n    data = x.copy()\n    \n    data['Capacity'] = data['Capacity'].apply(for_integer)\n\n    data['Height'] = data['Height'].apply(for_float)\n    data['Height'] = data['Height'].fillna(data['Height'].mean())\n\n    data['Internal Memory'] = data['Internal Memory'].apply(for_Internal_Memory)\n\n    data['Pixel Density'] = data['Pixel Density'].apply(for_integer)\n\n    data['Internal Memory'] = data['Internal Memory'].fillna(data['Internal Memory'].median())\n    data['Internal Memory'] = data['Internal Memory'].astype(int)\n\n    data['RAM'] = data['RAM'].apply(for_integer)\n    data['RAM'] = data['RAM'].fillna(data['RAM'].median())\n    data['RAM'] = data['RAM'].astype(int)\n\n    data['Resolution'] = data['Resolution'].apply(for_integer)\n    data['Resolution'] = data['Resolution'].fillna(data['Resolution'].median())\n    data['Resolution'] = data['Resolution'].astype(int)\n\n    data['Screen Size'] = data['Screen Size'].apply(for_float)\n\n    data['Thickness'] = data['Thickness'].apply(for_float)\n    data['Thickness'] = data['Thickness'].fillna(data['Thickness'].mean())\n    data['Thickness'] = data['Thickness'].round(2)\n\n    data['Type'] = data['Type'].fillna('Li-Polymer')\n\n    data['Screen to Body Ratio (calculated)'] = data['Screen to Body Ratio (calculated)'].apply(for_float)\n    data['Screen to Body Ratio (calculated)'] = data['Screen to Body Ratio (calculated)'].fillna(data['Screen to Body Ratio (calculated)'].mean())\n    data['Screen to Body Ratio (calculated)'] = data['Screen to Body Ratio (calculated)'].round(2)\n\n    data['Width'] = data['Width'].apply(for_float)\n    data['Width'] = data['Width'].fillna(data['Width'].mean())\n    data['Width'] = data['Width'].round(2)\n\n    data['Flash'][data['Flash'].isna() == True] = \"Other\"\n\n    data['User Replaceable'][data['User Replaceable'].isna() == True] = \"Other\"\n\n    data['Num_cores'] = data['Processor'].apply(for_string)\n    data['Num_cores'][data['Num_cores'].isna() == True] = \"Other\"\n\n\n    data['Processor_frequency'] = data['Processor'].apply(find_freq)\n    #because there is one entry with 208MHz values, to convert it to GHz\n    data['Processor_frequency'][data['Processor_frequency'] > 200] = 0.208\n    data['Processor_frequency'] = data['Processor_frequency'].fillna(data['Processor_frequency'].mean())\n    data['Processor_frequency'] = data['Processor_frequency'].round(2)\n\n    data['Camera Features'][data['Camera Features'].isna() == True] = \"Other\"\n\n    #simplifyig Operating System to os_name for simplicity\n    data['os_name'] = data['Operating System'].apply(for_string)\n    data['os_name'][data['os_name'].isna() == True] = \"Other\"\n\n    data['Sim1'] = data['SIM 1'].apply(for_string)\n\n    data['SIM Size'][data['SIM Size'].isna() == True] = \"Other\"\n\n    data['Image Resolution'][data['Image Resolution'].isna() == True] = \"Other\"\n\n    data['Fingerprint Sensor'][data['Fingerprint Sensor'].isna() == True] = \"Other\"\n\n    data['Expandable Memory'][data['Expandable Memory'].isna() == True] = \"No\"\n\n    data['Weight'] = data['Weight'].apply(for_integer)\n    data['Weight'] = data['Weight'].fillna(data['Weight'].mean())\n    data['Weight'] = data['Weight'].astype(int)\n\n    data['SIM 2'] = data['SIM 2'].apply(for_string)\n    data['SIM 2'][data['SIM 2'].isna() == True] = \"Other\"\n    \n    return data",
      "execution_count": null,
      "outputs": []
    },
    {
      "metadata": {
        "trusted": true,
        "_uuid": "41323597825090c278c4d7bc72b8f989cdc271ab"
      },
      "cell_type": "code",
      "source": "train = data_clean_2(train)\ntest = data_clean_2(test)\n\n# check the number of features and data points in train\nprint(\"Number of data points in train: %d\" % train.shape[0])\nprint(\"Number of features in train: %d\" % train.shape[1])\n\n# check the number of features and data points in test\nprint(\"Number of data points in test: %d\" % test.shape[0])\nprint(\"Number of features in test: %d\" % test.shape[1])",
      "execution_count": null,
      "outputs": []
    },
    {
      "metadata": {
        "_uuid": "4b7f338c4999d70dfb8e3132616709bafe13c339"
      },
      "cell_type": "markdown",
      "source": "Not very important feature"
    },
    {
      "metadata": {
        "trusted": true,
        "_uuid": "d63a58a14a9ca8a386e74e865fe79caec4f64191"
      },
      "cell_type": "code",
      "source": "def data_clean_3(x):\n    \n    data = x.copy()\n\n    columns_to_remove = ['User Available Storage','SIM Size','Chipset','Processor','Autofocus','Aspect Ratio','Touch Screen',\n                        'Bezel-less display','Operating System','SIM 1','USB Connectivity','Other Sensors','Graphics','FM Radio',\n                        'NFC','Shooting Modes','Browser','Display Colour' ]\n\n    columns_to_retain = list(set(data.columns)-set(columns_to_remove))\n    data = data[columns_to_retain]\n\n\n    columns_to_remove = [ 'Screen Resolution','User Replaceable','Camera Features',\n                        'Thickness', 'Display Type']\n\n    columns_to_retain = list(set(data.columns)-set(columns_to_remove))\n    data = data[columns_to_retain]\n\n\n    columns_to_remove = ['Fingerprint Sensor', 'Flash', 'Rating Count', 'Review Count','Image Resolution','Type','Expandable Memory',\\\n                        'Colours','Width','Model']\n    columns_to_retain = list(set(data.columns)-set(columns_to_remove))\n    data = data[columns_to_retain]\n\n    return data",
      "execution_count": null,
      "outputs": []
    },
    {
      "metadata": {
        "trusted": true,
        "_uuid": "914a9d4f7645c506d2ad65999e6f2eff5be4ee11"
      },
      "cell_type": "code",
      "source": "train = data_clean_3(train)\ntest = data_clean_3(test)\n\n# check the number of features and data points in train\nprint(\"Number of data points in train: %d\" % train.shape[0])\nprint(\"Number of features in train: %d\" % train.shape[1])\n\n# check the number of features and data points in test\nprint(\"Number of data points in test: %d\" % test.shape[0])\nprint(\"Number of features in test: %d\" % test.shape[1])",
      "execution_count": null,
      "outputs": []
    },
    {
      "metadata": {
        "trusted": true,
        "_uuid": "4e0bdf4d178e6bd492bca30ccd7c4f2a20457cd7"
      },
      "cell_type": "code",
      "source": "# one hot encoding\n\ntrain_ids = train['PhoneId']\ntest_ids = test['PhoneId']\n\ncols = list(test.columns)\ncols.remove('PhoneId')\ncols.insert(0, 'PhoneId')\n\ncombined = pd.concat([train.drop('Rating', axis=1)[cols], test[cols]])\nprint(combined.shape)\nprint(combined.columns)\n\ncombined = pd.get_dummies(combined)\nprint(combined.shape)\nprint(combined.columns)\n\ntrain_new = combined[combined['PhoneId'].isin(train_ids)]\ntest_new = combined[combined['PhoneId'].isin(test_ids)]",
      "execution_count": null,
      "outputs": []
    },
    {
      "metadata": {
        "trusted": true,
        "_uuid": "82bd16a420ead6c6422796d6a03efd2e1efbf036"
      },
      "cell_type": "code",
      "source": "train_new = train_new.merge(train[['PhoneId', 'Rating']], on='PhoneId')",
      "execution_count": null,
      "outputs": []
    },
    {
      "metadata": {
        "trusted": true,
        "_uuid": "c48741a42e024d8f14d730ff7bf2b090492c87dc"
      },
      "cell_type": "code",
      "source": "# check the number of features and data points in train\nprint(\"Number of data points in train: %d\" % train_new.shape[0])\nprint(\"Number of features in train: %d\" % train_new.shape[1])\n\n# check the number of features and data points in test\nprint(\"Number of data points in test: %d\" % test_new.shape[0])\nprint(\"Number of features in test: %d\" % test_new.shape[1])",
      "execution_count": null,
      "outputs": []
    },
    {
      "metadata": {
        "trusted": true,
        "_uuid": "64e2c97e306fd6d5ccdaa4dfa09db9d82d436dc7"
      },
      "cell_type": "code",
      "source": "train_new.iloc[150:200, -1]",
      "execution_count": null,
      "outputs": []
    },
    {
      "metadata": {
        "trusted": true,
        "_uuid": "125518d54bcdd295212fd52a599a34063dc365a6"
      },
      "cell_type": "code",
      "source": "test_new.head()",
      "execution_count": null,
      "outputs": []
    },
    {
      "metadata": {
        "_uuid": "04813a1b3dbb1abc39ab7e636d15f2501ad3e8c7"
      },
      "cell_type": "markdown",
      "source": "# My Solution"
    },
    {
      "metadata": {
        "trusted": true,
        "_uuid": "d0d8bd899367e3a02831cd5db2eb48d8292037c3"
      },
      "cell_type": "code",
      "source": "X = train_new.iloc[:, 1:]\nX_valid = test_new.iloc[:, 1:]\nY = (train_new['Rating'] >= 4) * 1\n",
      "execution_count": null,
      "outputs": []
    },
    {
      "metadata": {
        "_uuid": "deff7afffd5dcc702af9e53a36a5fc89ddd658e2"
      },
      "cell_type": "markdown",
      "source": "# Scatter Plot"
    },
    {
      "metadata": {
        "trusted": true,
        "_uuid": "50a97bcc9a1a48d4f5a989a1d9bc32325e367894",
        "scrolled": false
      },
      "cell_type": "code",
      "source": "import matplotlib as plt\nimport seaborn as sns\nsns.set()\ndata_thin = X[['Screen to Body Ratio (calculated)', 'Capacity', 'Resolution', 'Internal Memory', 'Processor_frequency', 'RAM', 'Height', 'Pixel Density', 'Screen Size', 'Weight', 'Rating']]\ndata_thin['Rating'] = (data_thin['Rating'] >= 4) * 1\n#data_thin = pd.DataFrame(data_thin)\n#data_thin.shape\nsns.pairplot(data_thin, hue = 'Rating')\ndata_thin.head()\n#type(data_thin['Rating'])",
      "execution_count": null,
      "outputs": []
    },
    {
      "metadata": {
        "_uuid": "ea1a5ba7361576c82f31983c943fd802a23779ba"
      },
      "cell_type": "markdown",
      "source": "# Z-Score/Min-Max Normalization"
    },
    {
      "metadata": {
        "trusted": true,
        "_uuid": "120ae2175fd43453c82ac7bdecbdd7e30cf0e8ec"
      },
      "cell_type": "code",
      "source": "#Z-Score gave better accuracy\ntest_check = X_valid.copy()\n\nfor col in test_check.columns[0:10]:\n    test_check[col] = (test_check[col] - test_check[col].mean())/test_check[col].std()\n    \nX_valid = test_check.copy()\nX_valid.head()",
      "execution_count": null,
      "outputs": []
    },
    {
      "metadata": {
        "trusted": true,
        "_uuid": "a7ffc072458d848386089748f8b81571f15a8107"
      },
      "cell_type": "code",
      "source": "train_check = X.copy()\n\nfor col in train_check.columns[0:10]:\n    train_check[col] = (train_check[col] - train_check[col].mean())/train_check[col].std()\n    \nX = train_check.copy()\nX.head()",
      "execution_count": null,
      "outputs": []
    },
    {
      "metadata": {
        "_uuid": "52e906702c2dc115be4499d44f92f3d8b74286df"
      },
      "cell_type": "markdown",
      "source": "# Checking for highly correlated Columns"
    },
    {
      "metadata": {
        "trusted": true,
        "_uuid": "e7082c2803d88c1c00ac0309f18ffb620cc70cb4"
      },
      "cell_type": "code",
      "source": "X = train_check.copy()\n\n# Correlation outputs are really large. Do not print everytime unless actually checking for new columns.\n#for col1 in X.columns[:10]:\n#    for col2 in X.columns[:10]:\n#        print(col1, \" \", col2, \" \", X[col1].corr(X[col2]))\n\nX = X.drop('Height', axis = 1)\nX = X.drop('Screen to Body Ratio (calculated)', axis = 1)\nX_valid = X_valid.drop('Height', axis = 1)\nX_valid = X_valid.drop('Screen to Body Ratio (calculated)', axis = 1)\n\n#for col1 in X.columns[:8]:\n#    for col2 in X.columns[:8]:\n#        print(col1, \" \", col2, \" \", X[col1].corr(X[col2]))\n\nX.head()",
      "execution_count": null,
      "outputs": []
    },
    {
      "metadata": {
        "trusted": true,
        "_uuid": "646b59b6cec51ac8ce34d6a9215deca3a9f5b3a5",
        "scrolled": true
      },
      "cell_type": "code",
      "source": "X = X.drop('os_name_iOS', axis = 1)\nX_valid = X_valid.drop('os_name_iOS', axis = 1)\nX = X.drop('Brand_Apple', axis = 1)\nX_valid = X_valid.drop('Brand_Apple', axis = 1)\nX = X.drop('Brand_Reliance', axis = 1)\nX_valid = X_valid.drop('Brand_Reliance', axis = 1)\nX = X.drop('Num_cores_Other', axis = 1)\nX_valid = X_valid.drop('Num_cores_Other', axis = 1)\nX = X.drop('SIM Slot(s)_Dual SIM, GSM+GSM, Dual VoLTE', axis = 1)\nX_valid = X_valid.drop('SIM Slot(s)_Dual SIM, GSM+GSM, Dual VoLTE', axis = 1)\nX = X.drop('SIM 2_2G', axis = 1)\nX_valid = X_valid.drop('SIM 2_2G', axis = 1)\nX = X.drop('Num_cores_Octa', axis = 1)\nX_valid = X_valid.drop('Num_cores_Octa', axis = 1)\nX = X.drop('Sim1_2G', axis = 1)\nX_valid = X_valid.drop('Sim1_2G', axis = 1)\n\nX = X.drop('Rating', axis = 1)\n#for col1 in X.columns:\n#    for col2 in X.columns:\n#        print(col1, \" \", col2, \" \", X[col1].corr(X[col2]))",
      "execution_count": null,
      "outputs": []
    },
    {
      "metadata": {
        "_uuid": "b8b915312d6030f125e72f938e538fb94eaa77eb"
      },
      "cell_type": "markdown",
      "source": "# Train Test Split and Perceptron Class"
    },
    {
      "metadata": {
        "trusted": true,
        "_uuid": "d4c10cd752fde7d13a384517bb36dc5540a6e09c",
        "scrolled": true
      },
      "cell_type": "code",
      "source": "from sklearn.model_selection import train_test_split\nX_train, X_test, Y_train, Y_test = train_test_split(X, Y, test_size = 0.3, stratify = Y, random_state = 1)\nprint(X_train.shape, Y_train.shape, X_test.shape, Y_test.shape)\nprint(Y.mean(), Y_train.mean(), Y_test.mean())",
      "execution_count": null,
      "outputs": []
    },
    {
      "metadata": {
        "trusted": true,
        "_uuid": "c7bfa827b2c1515026710ed5cc064b932cad0368"
      },
      "cell_type": "code",
      "source": "from sklearn.metrics import accuracy_score\nimport matplotlib.pyplot as plt\nclass Perceptron:\n  \n  def __init__(self):\n    self.w = None\n    self.b = None\n    \n  def model(self, x):\n    return 1 if (np.dot(self.w, x) >= self.b) else 0\n    \n  def predict(self, X):\n    \n    Y = []\n    for x in X:\n      # print(x)\n      result = self.model(x)\n      Y.append(result)\n    \n    return np.array(Y)\n  \n  def fit(self, X, Y, epochs = 1, lr = 1):\n    \n    self.w = np.ones(X.shape[1])\n    self.b = 0\n    accuracy = {}\n    max_accuracy = 0\n\n    wt_matrix = []\n\n    for i in range(epochs):\n      for x, y in zip(X, Y):\n        y_pred = self.model(x)\n        if y == 1 and y_pred == 0:\n          self.w = self.w + lr * x\n          self.b = self.b - lr * 1\n        elif y == 0 and y_pred == 1:\n          self.w = self.w - lr * x\n          self.b = self.b + lr * 1\n\n      accuracy[i] = accuracy_score(self.predict(X), Y)\n      \n      if(accuracy[i] > max_accuracy):\n        max_accuracy = accuracy[i]\n        chkptw = self.w\n        chkptb = self.b\n\n      wt_matrix.append(self.w)\n\n    self.w = chkptw\n    self.b = chkptb\n\n    print(max_accuracy)\n    plt.plot(accuracy.values())\n    plt.ylim([0, 1])\n    plt.show()\n\n    return np.array(wt_matrix)",
      "execution_count": null,
      "outputs": []
    },
    {
      "metadata": {
        "_uuid": "4071f7cd2500a5a7d9b64f6f773f54973db64663"
      },
      "cell_type": "markdown",
      "source": "# Training and Testing"
    },
    {
      "metadata": {
        "trusted": true,
        "_uuid": "be3d99ca405bcfaeff9be061d807bdb5ce7e506b"
      },
      "cell_type": "code",
      "source": "perceptron = Perceptron()\nweight_matrix = perceptron.fit(X_train.values, Y_train.values, 50, 0.1)",
      "execution_count": null,
      "outputs": []
    },
    {
      "metadata": {
        "trusted": true,
        "_uuid": "2412d73a823efab2e900d2c54fa695efe11ba521"
      },
      "cell_type": "code",
      "source": "from sklearn.metrics import accuracy_score\nY_pred_test = perceptron.predict(X_test.values)\naccuracy = accuracy_score(Y_pred_test, Y_test)\nprint(accuracy)",
      "execution_count": null,
      "outputs": []
    },
    {
      "metadata": {
        "trusted": true,
        "_uuid": "57a56206b15c6e54aa75e5bacf286392117421fa",
        "scrolled": true
      },
      "cell_type": "code",
      "source": "Y_pred_test = perceptron.predict(X_valid.values)\ncount = 0\nfor val in Y_pred_test:\n    count += val\ncount",
      "execution_count": null,
      "outputs": []
    },
    {
      "metadata": {
        "trusted": true,
        "_uuid": "55041578b4616d7d8eabdaa629d4a8ab37697010"
      },
      "cell_type": "code",
      "source": "submission = pd.DataFrame({'PhoneId':test_new['PhoneId'], 'Class':Y_pred_test})\nsubmission = submission[['PhoneId', 'Class']]\nsubmission.head()",
      "execution_count": null,
      "outputs": []
    },
    {
      "metadata": {
        "trusted": true,
        "_uuid": "331aaa5404a94afa3a0d4c40dafa88b6e335709e"
      },
      "cell_type": "code",
      "source": "submission.to_csv(\"submission.csv\", index=False)",
      "execution_count": null,
      "outputs": []
    }
  ],
  "metadata": {
    "kernelspec": {
      "display_name": "Python 3",
      "language": "python",
      "name": "python3"
    },
    "language_info": {
      "name": "python",
      "version": "3.6.6",
      "mimetype": "text/x-python",
      "codemirror_mode": {
        "name": "ipython",
        "version": 3
      },
      "pygments_lexer": "ipython3",
      "nbconvert_exporter": "python",
      "file_extension": ".py"
    }
  },
  "nbformat": 4,
  "nbformat_minor": 1
}